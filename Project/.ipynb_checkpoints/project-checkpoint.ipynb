{
 "cells": [
  {
   "cell_type": "code",
   "execution_count": 5,
   "id": "7c68a037-2765-40be-a55b-6eb438fd0c9c",
   "metadata": {},
   "outputs": [],
   "source": [
    "import cv2\n",
    "import mediapipe as mp\n",
    "import serial"
   ]
  },
  {
   "cell_type": "code",
   "execution_count": 7,
   "id": "0ddb6645-cb35-4c6a-b0fb-3d6dd08ef4d4",
   "metadata": {},
   "outputs": [],
   "source": [
    "port = \"COM1\"\n",
    "#uart = serial.Serial(port, 9600)\n",
    "cap = cv2.VideoCapture(0)\n",
    "mpHands = mp.solutions.hands\n",
    "hands = mpHands.Hands(model_complexity=0, max_num_hands=1)   \n",
    "mpDraw = mp.solutions.drawing_utils\n",
    "\n",
    "while True:\n",
    "    ret, frame = cap.read()\n",
    "    if not ret:\n",
    "        print(\"Error\")\n",
    "        break\n",
    "        \n",
    "    #frameRGB = cv2.cvtColor(frame, cv2.COLOR_BGR2RGB)\n",
    "    frame = cv2.flip(frame, flipCode = 1)\n",
    "    res = hands.process(cv2.cvtColor(frame, cv2.COLOR_BGR2RGB))\n",
    "    \n",
    "    if res.multi_hand_landmarks:\n",
    "        for handLms in res.multi_hand_landmarks:\n",
    "            mpDraw.draw_landmarks(frame, handLms, mpHands.HAND_CONNECTIONS)\n",
    "\n",
    "            for id, point in enumerate(handLms.landmark):\n",
    "                width, height, color = frame.shape\n",
    "                width, height = int(point.x * height), int(point.y * width)\n",
    "                if id == 8:\n",
    "                    cv2.circle(frame, (width, height), 8, (255,255,0), cv2.FILLED)\n",
    "        \n",
    "    cv2.imshow(\"Image\", frame)\n",
    "        \n",
    "   \n",
    "    if cv2.waitKey(1) & 0xFF == ord(\"q\"):\n",
    "        break\n",
    "        "
   ]
  },
  {
   "cell_type": "code",
   "execution_count": null,
   "id": "f9fbf565-47f3-49e0-bf21-50ce99ecf1ae",
   "metadata": {},
   "outputs": [],
   "source": []
  }
 ],
 "metadata": {
  "kernelspec": {
   "display_name": "Python 3 (ipykernel)",
   "language": "python",
   "name": "python3"
  },
  "language_info": {
   "codemirror_mode": {
    "name": "ipython",
    "version": 3
   },
   "file_extension": ".py",
   "mimetype": "text/x-python",
   "name": "python",
   "nbconvert_exporter": "python",
   "pygments_lexer": "ipython3",
   "version": "3.10.11"
  }
 },
 "nbformat": 4,
 "nbformat_minor": 5
}
